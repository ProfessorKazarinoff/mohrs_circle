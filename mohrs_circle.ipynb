{
 "cells": [
  {
   "cell_type": "markdown",
   "metadata": {},
   "source": [
    "# A Jupyter notebook that builds Mohr's Circles based on user input"
   ]
  },
  {
   "cell_type": "code",
   "execution_count": 1,
   "metadata": {},
   "outputs": [],
   "source": [
    "import numpy as np\n",
    "import math as mt\n",
    "import matplotlib.pyplot as plt\n",
    "import ipywidgets as widgets\n",
    "from IPython.display import display\n",
    "%config InlineBackend.print_figure_kwargs = {'bbox_inches':None}\n",
    "%config InlineBackend.rc = {'font.size': 10, 'figure.figsize': (10.0, 6.0), 'figure.facecolor': (1, 1, 1, 0), 'figure.subplot.bottom': 0.125, 'figure.edgecolor': (1, 1, 1, 0), 'figure.dpi': 72}\n",
    "%matplotlib inline"
   ]
  },
  {
   "cell_type": "code",
   "execution_count": 2,
   "metadata": {},
   "outputs": [],
   "source": [
    "def mohr_circle():\n",
    "    print('PLEASE CONSIDER SIGNS BEFORE ENTERING YOUR VALUES')\n",
    "    stress_x=float(input('Enter the stress in the x-direction: '))\n",
    "    stress_y=float(input('Enter the stress in the y-direction: '))\n",
    "    shear=float(input('Enter the shear: '))\n",
    "    \n",
    "    stress_avg=(stress_x+stress_y)/2\n",
    "    stress_max=stress_avg+(((stress_x-stress_y)/2)**2+shear**2)**0.5\n",
    "    stress_min=stress_avg-(((stress_x-stress_y)/2)**2+shear**2)**0.5\n",
    "    R=((((stress_x-stress_y)/2)**2)+shear**2)**0.5     #Also max shear\n",
    "    circle_eqn=((stress_x-stress_avg)**2)-shear**2-R**2\n",
    "    \n",
    "    if shear==0:\n",
    "        theta_p=0\n",
    "        theta_s=0\n",
    "    else:\n",
    "        theta_p=0.5*mt.degrees(mt.atan((2*shear)/(stress_x-stress_y)))\n",
    "        if theta_p<=0:\n",
    "            a=-1\n",
    "        else:\n",
    "            a=1\n",
    "        theta_s=a*0.5*mt.degrees(mt.atan((stress_x-stress_y)/(2*shear)))\n",
    "        \n",
    "    if abs(stress_min)>abs(stress_max):\n",
    "        maxi=stress_min\n",
    "        mini=stress_max\n",
    "    elif abs(stress_max)>abs(stress_min):\n",
    "        maxi=stress_max\n",
    "        mini=stress_min\n",
    "        \n",
    "        #principle planes\n",
    "        \n",
    "    shear_lim_p=np.arange(0,0.5*(R+1),1)\n",
    "    shear_lim_n=np.arange(0,-0.5*R-1,-1)\n",
    "    \n",
    "    \n",
    "    princ_x_slope=(theta_p/abs(theta_p))*mt.tan(mt.radians(theta_p))\n",
    "    princ_y_slope=(theta_p/abs(theta_p))*mt.tan(mt.radians((theta_p+90)))\n",
    "    \n",
    "    \n",
    "    #princ_x=princ_x_slope*shear_lim+stress_avg\n",
    "    #princ_y=princ_y_slope*shear_lim+stress_avg\n",
    "    \n",
    "    if princ_x_slope<0:\n",
    "        range_x=shear_lim_n\n",
    "        princ_x=princ_x_slope*range_x+stress_avg\n",
    "        \n",
    "    elif princ_x_slope>0:\n",
    "        range_x=shear_lim_p\n",
    "        princ_x=princ_x_slope*range_x+stress_avg\n",
    "        \n",
    "    if princ_y_slope<0:\n",
    "        range_y=shear_lim_n\n",
    "        princ_y=princ_y_slope*range_y+stress_avg\n",
    "        \n",
    "    elif princ_y_slope>0:\n",
    "        range_y=shear_lim_p\n",
    "        princ_y=princ_y_slope*range_y+stress_avg\n",
    "        \n",
    "    \n",
    "    n=100\n",
    "    t=np.linspace(0,2*np.pi,n+1)\n",
    "    x=R*np.cos(t)+stress_avg\n",
    "    y=R*np.sin(t)\n",
    "    \n",
    "    fig = plt.figure()\n",
    "    ax = fig.add_subplot(111)\n",
    "    plt.grid(True)\n",
    "    plt.axis('equal')\n",
    "    plt.plot(x,y,'r')\n",
    "    plt.axvline(0,color='black')\n",
    "    plt.axhline(0,color='black')\n",
    "    plt.xlabel('Axial Stress')\n",
    "    plt.ylabel('Shearing Stress')\n",
    "    plt.title('Mohr Circle')\n",
    "    plt.plot(princ_x,range_x,'g',linestyle=':')\n",
    "    plt.plot(princ_y,range_y,'g',linestyle=':')\n",
    "    plt.arrow(stress_avg,0,(stress_x-stress_avg),-shear)\n",
    "    plt.arrow(stress_avg,0,(stress_y-stress_avg),shear)\n",
    "    plt.figure(figsize=[60,40])\n",
    "    ax.annotate(s='X',\n",
    "                xy=(stress_x,-shear),\n",
    "                arrowprops=dict(facecolor='blue', shrink=0.05))\n",
    "    ax.annotate(s='Y',\n",
    "                xy=(stress_y,shear),\n",
    "                arrowprops=dict(facecolor='blue', shrink=0.05))\n",
    "    ax.annotate(s='Max Stress',\n",
    "                 xy=(maxi,0),\n",
    "                 xytext=(maxi,0.5*shear),\n",
    "                 arrowprops=dict(facecolor='blue', shrink=0.05))\n",
    "    ax.annotate(s='Min Stress',\n",
    "                 xy=(mini,0),\n",
    "                 xytext=(mini,0.5*shear),\n",
    "                 arrowprops=dict(facecolor='blue', shrink=0.05))\n",
    "    plt.show\n",
    "    \n",
    "    \n",
    "    print(' ')\n",
    "    print(f'Max shear: {np.round(R,3)}')\n",
    "    print(f'Max stress: {np.round(maxi,3)}\\nMin stress: {np.round(mini,3)}')\n",
    "    print(f'Average normal stress: {np.round(stress_avg,3)}\\n')\n",
    "    print(f'Principal angle: {np.round(theta_p,2)} degrees')\n",
    "    print(f'Principal planes: {np.round(theta_p,2)} degrees and {np.round(theta_p+90,2)} degrees')\n",
    "    print(f'Angle to the shear plane: {np.round(theta_s,2)} degrees')\n"
   ]
  },
  {
   "cell_type": "code",
   "execution_count": 3,
   "metadata": {},
   "outputs": [
    {
     "name": "stdout",
     "output_type": "stream",
     "text": [
      "PLEASE CONSIDER SIGNS BEFORE ENTERING YOUR VALUES\n",
      "Enter the stress in the x-direction: 2\n",
      "Enter the stress in the y-direction: 4\n",
      "Enter the shear: 1\n",
      " \n",
      "Max shear: 1.414\n",
      "Max stress: 4.414\n",
      "Min stress: 1.586\n",
      "Average normal stress: 3.0\n",
      "\n",
      "Principal angle: -22.5 degrees\n",
      "Principal planes: -22.5 degrees and 67.5 degrees\n",
      "Angle to the shear plane: 22.5 degrees\n"
     ]
    },
    {
     "data": {
      "image/png": "[encoded data removed]",
      "text/plain": [
       "<Figure size 720x432 with 1 Axes>"
      ]
     },
     "metadata": {
      "needs_background": "light"
     },
     "output_type": "display_data"
    },
    {
     "data": {
      "text/plain": [
       "<Figure size 4320x2880 with 0 Axes>"
      ]
     },
     "metadata": {},
     "output_type": "display_data"
    }
   ],
   "source": [
    "mohr_circle()"
   ]
  },
  {
   "cell_type": "code",
   "execution_count": null,
   "metadata": {},
   "outputs": [],
   "source": []
  }
 ],
 "metadata": {
  "kernelspec": {
   "display_name": "Python 3",
   "language": "python",
   "name": "python3"
  },
  "language_info": {
   "codemirror_mode": {
    "name": "ipython",
    "version": 3
   },
   "file_extension": ".py",
   "mimetype": "text/x-python",
   "name": "python",
   "nbconvert_exporter": "python",
   "pygments_lexer": "ipython3",
   "version": "3.7.4"
  }
 },
 "nbformat": 4,
 "nbformat_minor": 2
}
